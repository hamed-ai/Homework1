{
 "cells": [
  {
   "cell_type": "markdown",
   "id": "cc79f868",
   "metadata": {},
   "source": [
    "## 1. Str"
   ]
  },
  {
   "cell_type": "markdown",
   "id": "48b0d27a",
   "metadata": {},
   "source": [
    "### برنامه ای بنویسید که یک رشته را از ورودی بگیرد و تعداد حروف بزرگ و کوچک آن را حساب کند. سپس نتیجه را چاپ کند"
   ]
  },
  {
   "cell_type": "code",
   "execution_count": 4,
   "id": "31760ee8",
   "metadata": {},
   "outputs": [],
   "source": [
    "def UpperLowerCounter(Main_text):\n",
    "    count_uppers = 0\n",
    "    count_lowers = 0\n",
    "\n",
    "    for i in Main_text:\n",
    "        if i.isupper():\n",
    "            count_uppers += 1\n",
    "        elif i.islower():\n",
    "            count_lowers += 1\n",
    "    print('#UpperCase_letters: {}\\n#LowerCase_letters: {}'.format(count_uppers, count_lowers))"
   ]
  },
  {
   "cell_type": "code",
   "execution_count": 5,
   "id": "921994ea",
   "metadata": {},
   "outputs": [],
   "source": [
    "my_str = \"If You Can Dream It, You Can Do It\""
   ]
  },
  {
   "cell_type": "code",
   "execution_count": 6,
   "id": "d36271f9",
   "metadata": {},
   "outputs": [
    {
     "name": "stdout",
     "output_type": "stream",
     "text": [
      "#UpperCase_letters: 9\n",
      "#LowerCase_letters: 16\n"
     ]
    }
   ],
   "source": [
    "UpperLowerCounter(my_str)"
   ]
  },
  {
   "cell_type": "markdown",
   "id": "b236d175",
   "metadata": {},
   "source": [
    "## 2. Dict"
   ]
  },
  {
   "cell_type": "markdown",
   "id": "47082e19",
   "metadata": {},
   "source": [
    "### یک دیکشنری با اطلاعات مختلف از دانشجویانتان (نام، سن، رشته تحصیلی) بسازید. سپس برنامه ای بنویسید که نام یک دانشجو را از ورودی بگیرد و اطلاعات مربوط به او را چاپ کند"
   ]
  },
  {
   "cell_type": "code",
   "execution_count": 11,
   "id": "c06e4cca",
   "metadata": {},
   "outputs": [],
   "source": [
    "def Students_info (Name, List):\n",
    "    if Name in List:\n",
    "        print('%s, is %s years old, she/he is studying %s.'%(Name, List[Name]['Age'], List[Name]['Major']))\n",
    "    else:\n",
    "        return(Name + ' is not in the List!')"
   ]
  },
  {
   "cell_type": "code",
   "execution_count": 15,
   "id": "dd408bed",
   "metadata": {},
   "outputs": [],
   "source": [
    "# def Students_info2 (Name, List):\n",
    "#     if Name in List:\n",
    "#         return((List[Name]))\n",
    "#     else:\n",
    "#         return('This Name is not in the List!')"
   ]
  },
  {
   "cell_type": "code",
   "execution_count": 16,
   "id": "7dfa78dd",
   "metadata": {},
   "outputs": [],
   "source": [
    "Students = {'Paria Shadnoush':{'Age': 18, 'Major':'Mechanical Engineering'}, 'Elahe Ehsani':{'Age':20, 'Major': 'Education'},\n",
    "            'Reza Safa':{'Age': 21, 'Major': 'MBA'}}"
   ]
  },
  {
   "cell_type": "code",
   "execution_count": 17,
   "id": "4413d3bb",
   "metadata": {},
   "outputs": [
    {
     "data": {
      "text/plain": [
       "'Elahe Ahmadi is not in the List!'"
      ]
     },
     "execution_count": 17,
     "metadata": {},
     "output_type": "execute_result"
    }
   ],
   "source": [
    "Students_info('Elahe Ahmadi', Students)"
   ]
  },
  {
   "cell_type": "code",
   "execution_count": 18,
   "id": "fe2ef0be",
   "metadata": {},
   "outputs": [
    {
     "name": "stdout",
     "output_type": "stream",
     "text": [
      "Elahe Ehsani, is 20 years old, she/he is studying Education.\n"
     ]
    }
   ],
   "source": [
    "Students_info('Elahe Ehsani', Students)"
   ]
  },
  {
   "cell_type": "code",
   "execution_count": 20,
   "id": "9421f5e2",
   "metadata": {},
   "outputs": [],
   "source": [
    "# Students_info2('Reza Safa', Students)"
   ]
  },
  {
   "cell_type": "markdown",
   "id": "6551922a",
   "metadata": {},
   "source": [
    "## 3. List & Tuple"
   ]
  },
  {
   "cell_type": "markdown",
   "id": "d3e2a4ef",
   "metadata": {},
   "source": [
    "### یک لیست از اعداد را از ورودی بخوانید و برنامهای بنویسید که این اعداد را در یک تاپل قرار دهد و تعداد اعداد زوج و فرد را جداگانه چاپ کند"
   ]
  },
  {
   "cell_type": "code",
   "execution_count": 21,
   "id": "02d5a352",
   "metadata": {},
   "outputs": [],
   "source": [
    "def Odd_or_Even(List_of_Numbers):\n",
    "    \n",
    "    new_tuple = tuple(List_of_Numbers)\n",
    "    #i = len(new_tuple)\n",
    "    Odds = []\n",
    "    Evens = []\n",
    "    for i in range(len(new_tuple)):\n",
    "        if new_tuple[i] % 2 ==0:\n",
    "            Evens.append(new_tuple[i])\n",
    "        elif new_tuple[i] % 2 == 1:\n",
    "            Odds.append(new_tuple[i])\n",
    "    print('Odds list :' + str(Odds) + '\\nEvens list:' + str(Evens))"
   ]
  },
  {
   "cell_type": "code",
   "execution_count": 22,
   "id": "89ed9dba",
   "metadata": {},
   "outputs": [],
   "source": [
    "List1 = [1, 0, 5, 58, -10, 1001, 55]"
   ]
  },
  {
   "cell_type": "code",
   "execution_count": 23,
   "id": "126d0f17",
   "metadata": {},
   "outputs": [
    {
     "name": "stdout",
     "output_type": "stream",
     "text": [
      "Odds list :[1, 5, 1001, 55]\n",
      "Evens list:[0, 58, -10]\n"
     ]
    }
   ],
   "source": [
    "Odd_or_Even(List1)"
   ]
  },
  {
   "cell_type": "markdown",
   "id": "510abf84",
   "metadata": {},
   "source": [
    "## 4. Int"
   ]
  },
  {
   "cell_type": "markdown",
   "id": "b1be911e",
   "metadata": {},
   "source": [
    "### برنامهای بنویسید که یک عدد از ورودی بگیرد و تشخیص دهد که آیا آن عدد اول است یا خیر"
   ]
  },
  {
   "cell_type": "code",
   "execution_count": 67,
   "id": "ea270c90",
   "metadata": {},
   "outputs": [
    {
     "name": "stdout",
     "output_type": "stream",
     "text": [
      "Please enter a positive integer number: 2159\n"
     ]
    },
    {
     "data": {
      "text/plain": [
       "'2159 is not a Prime number'"
      ]
     },
     "execution_count": 67,
     "metadata": {},
     "output_type": "execute_result"
    }
   ],
   "source": [
    "#number = input('Please enter a number: ')\n",
    "def primary_or_not(x):\n",
    "    count = 0;\n",
    "    for i in range(2, x-1):\n",
    "        if x % i == 0:\n",
    "            return(str(x) + ' is not a Prime number')\n",
    "    return(str(x) + ' is a Prime number')\n",
    "    \n",
    "\n",
    "x = int(input('Please enter a positive integer number: '))\n",
    "primary_or_not(x)"
   ]
  },
  {
   "cell_type": "code",
   "execution_count": 69,
   "id": "56058ec8",
   "metadata": {},
   "outputs": [
    {
     "data": {
      "text/plain": [
       "'97 is a Prime number'"
      ]
     },
     "execution_count": 69,
     "metadata": {},
     "output_type": "execute_result"
    }
   ],
   "source": [
    "primary_or_not(97)"
   ]
  }
 ],
 "metadata": {
  "kernelspec": {
   "display_name": "Python 3 (ipykernel)",
   "language": "python",
   "name": "python3"
  },
  "language_info": {
   "codemirror_mode": {
    "name": "ipython",
    "version": 3
   },
   "file_extension": ".py",
   "mimetype": "text/x-python",
   "name": "python",
   "nbconvert_exporter": "python",
   "pygments_lexer": "ipython3",
   "version": "3.11.5"
  }
 },
 "nbformat": 4,
 "nbformat_minor": 5
}
